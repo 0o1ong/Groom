{
  "cells": [
    {
      "cell_type": "code",
      "execution_count": null,
      "metadata": {
        "colab": {
          "base_uri": "https://localhost:8080/"
        },
        "id": "qSgoZCbwX0xL",
        "outputId": "87e37cdf-3a23-4e67-e40c-877bb8b88280"
      },
      "outputs": [
        {
          "output_type": "stream",
          "name": "stdout",
          "text": [
            "Drive already mounted at /content/drive; to attempt to forcibly remount, call drive.mount(\"/content/drive\", force_remount=True).\n"
          ]
        }
      ],
      "source": [
        "from google.colab import drive\n",
        "drive.mount('/content/drive')"
      ]
    },
    {
      "cell_type": "code",
      "execution_count": null,
      "metadata": {
        "id": "IhuJlHlJaXGq"
      },
      "outputs": [],
      "source": [
        "import pandas as pd\n",
        "import numpy as np"
      ]
    },
    {
      "cell_type": "code",
      "execution_count": null,
      "metadata": {
        "id": "uPPAb35q8bGq"
      },
      "outputs": [],
      "source": [
        "df1 = pd.read_csv(\"/content/drive/Shareddrives/Co-Deep 감자밭/코드/zfinal_data/202109_final.csv\", encoding=\"cp949\", index_col = 0, delimiter=',')\n",
        "df2 = pd.read_csv(\"/content/drive/Shareddrives/Co-Deep 감자밭/코드/zfinal_data/202110_final.csv\", encoding=\"cp949\", index_col = 0, delimiter=',')\n",
        "df3 = pd.read_csv(\"/content/drive/Shareddrives/Co-Deep 감자밭/코드/zfinal_data/202111_final.csv\", encoding=\"cp949\", index_col = 0, delimiter=',')\n",
        "df4 = pd.read_csv(\"/content/drive/Shareddrives/Co-Deep 감자밭/코드/zfinal_data/202112_final.csv\", encoding=\"cp949\", index_col = 0, delimiter=',')\n",
        "df5 = pd.read_csv(\"/content/drive/Shareddrives/Co-Deep 감자밭/코드/zfinal_data/202201_final.csv\", encoding=\"cp949\", index_col = 0, delimiter=',')\n",
        "df6 = pd.read_csv(\"/content/drive/Shareddrives/Co-Deep 감자밭/코드/zfinal_data/202202_final.csv\", encoding=\"cp949\", index_col = 0, delimiter=',')\n",
        "df7 = pd.read_csv(\"/content/drive/Shareddrives/Co-Deep 감자밭/코드/zfinal_data/202203_final.csv\", encoding=\"cp949\", index_col = 0, delimiter=',')\n",
        "df8 = pd.read_csv(\"/content/drive/Shareddrives/Co-Deep 감자밭/코드/zfinal_data/202204_final.csv\", encoding=\"cp949\", index_col = 0, delimiter=',')\n",
        "df9 = pd.read_csv(\"/content/drive/Shareddrives/Co-Deep 감자밭/코드/zfinal_data/202205_final.csv\", encoding=\"cp949\", index_col = 0, delimiter=',')\n",
        "df10 = pd.read_csv(\"/content/drive/Shareddrives/Co-Deep 감자밭/코드/zfinal_data/202206_final.csv\", encoding=\"cp949\", index_col = 0, delimiter=',')\n",
        "df11 = pd.read_csv(\"/content/drive/Shareddrives/Co-Deep 감자밭/코드/zfinal_data/202207_final.csv\", encoding=\"cp949\", index_col = 0, delimiter=',')\n",
        "df12 = pd.read_csv(\"/content/drive/Shareddrives/Co-Deep 감자밭/코드/zfinal_data/202208_final.csv\", encoding=\"cp949\", index_col = 0, delimiter=',')"
      ]
    },
    {
      "cell_type": "code",
      "execution_count": null,
      "metadata": {
        "id": "yocVcgm5aaAV"
      },
      "outputs": [],
      "source": [
        "df = pd.concat([df1, df2, df3, df4, df5, df6, df7, df8, df9, df10, df11, df12])"
      ]
    },
    {
      "cell_type": "code",
      "source": [
        "df"
      ],
      "metadata": {
        "colab": {
          "base_uri": "https://localhost:8080/",
          "height": 661
        },
        "id": "KMD3v-T-5hXJ",
        "outputId": "94561d5e-6a80-4aa7-de7b-7d4f8c2ef701"
      },
      "execution_count": null,
      "outputs": [
        {
          "output_type": "execute_result",
          "data": {
            "text/plain": [
              "         index  car_num  receipt_time  set_time  ride_time start_position  \\\n",
              "0            0     3689            12        63         96    종로구 종로5.6가동   \n",
              "1            1     1305            27        64         92      광진구 자양제2동   \n",
              "2            2     8231           107       113        129        마포구 합정동   \n",
              "3            3     8239           153       161        195      성동구 금호1가동   \n",
              "4            4     7652           170       178        192      강서구 방화제3동   \n",
              "...        ...      ...           ...       ...        ...            ...   \n",
              "120738  120743     1542          1405      1410       1423        금천구 가산동   \n",
              "120739  120744     5740          1408      1416       1422      동대문구 전농2동   \n",
              "120740  120745     6752          1420      1421       1439        마포구 아현동   \n",
              "120741  120746     6752          1423        23         28       서초구 방배2동   \n",
              "120742  120747     9156          1427      1429          0        중구 신당5동   \n",
              "\n",
              "       end_position  start_latitude  start_longitude  end_latitude  \\\n",
              "0          양주시 회천1동       37.573077       127.003731     37.844185   \n",
              "1           성동구 송정동       37.530638       127.083615     37.553748   \n",
              "2         강서구 가양제3동       37.546780       126.908400     37.561656   \n",
              "3       중랑구 면목제3.8동       37.552839       127.026488     37.582959   \n",
              "4         강서구 발산제1동       37.583957       126.821670     37.549960   \n",
              "...             ...             ...              ...           ...   \n",
              "120738      금천구 가산동       37.475163       126.886296     37.475163   \n",
              "120739   노원구 중계2.3동       37.580759       127.061913     37.644074   \n",
              "120740     서초구 방배2동       37.553950       126.955520     37.472499   \n",
              "120741      관악구 서림동       37.472499       126.984635     37.472643   \n",
              "120742     중랑구 중화2동       37.563098       127.023029     37.600265   \n",
              "\n",
              "        end_longitude        date  day  \n",
              "0          127.066129  2021-09-01    2  \n",
              "1          127.068483  2021-09-01    2  \n",
              "2          126.860025  2021-09-01    2  \n",
              "3          127.088082  2021-09-01    2  \n",
              "4          126.825017  2021-09-01    2  \n",
              "...               ...         ...  ...  \n",
              "120738     126.886296  2022-08-31    2  \n",
              "120739     127.066128  2022-08-31    2  \n",
              "120740     126.984635  2022-08-31    2  \n",
              "120741     126.940394  2022-08-31    2  \n",
              "120742     127.075841  2022-08-31    2  \n",
              "\n",
              "[1294464 rows x 13 columns]"
            ],
            "text/html": [
              "\n",
              "  <div id=\"df-bc82a294-d636-4640-9896-a91d7a5d241b\">\n",
              "    <div class=\"colab-df-container\">\n",
              "      <div>\n",
              "<style scoped>\n",
              "    .dataframe tbody tr th:only-of-type {\n",
              "        vertical-align: middle;\n",
              "    }\n",
              "\n",
              "    .dataframe tbody tr th {\n",
              "        vertical-align: top;\n",
              "    }\n",
              "\n",
              "    .dataframe thead th {\n",
              "        text-align: right;\n",
              "    }\n",
              "</style>\n",
              "<table border=\"1\" class=\"dataframe\">\n",
              "  <thead>\n",
              "    <tr style=\"text-align: right;\">\n",
              "      <th></th>\n",
              "      <th>index</th>\n",
              "      <th>car_num</th>\n",
              "      <th>receipt_time</th>\n",
              "      <th>set_time</th>\n",
              "      <th>ride_time</th>\n",
              "      <th>start_position</th>\n",
              "      <th>end_position</th>\n",
              "      <th>start_latitude</th>\n",
              "      <th>start_longitude</th>\n",
              "      <th>end_latitude</th>\n",
              "      <th>end_longitude</th>\n",
              "      <th>date</th>\n",
              "      <th>day</th>\n",
              "    </tr>\n",
              "  </thead>\n",
              "  <tbody>\n",
              "    <tr>\n",
              "      <th>0</th>\n",
              "      <td>0</td>\n",
              "      <td>3689</td>\n",
              "      <td>12</td>\n",
              "      <td>63</td>\n",
              "      <td>96</td>\n",
              "      <td>종로구 종로5.6가동</td>\n",
              "      <td>양주시 회천1동</td>\n",
              "      <td>37.573077</td>\n",
              "      <td>127.003731</td>\n",
              "      <td>37.844185</td>\n",
              "      <td>127.066129</td>\n",
              "      <td>2021-09-01</td>\n",
              "      <td>2</td>\n",
              "    </tr>\n",
              "    <tr>\n",
              "      <th>1</th>\n",
              "      <td>1</td>\n",
              "      <td>1305</td>\n",
              "      <td>27</td>\n",
              "      <td>64</td>\n",
              "      <td>92</td>\n",
              "      <td>광진구 자양제2동</td>\n",
              "      <td>성동구 송정동</td>\n",
              "      <td>37.530638</td>\n",
              "      <td>127.083615</td>\n",
              "      <td>37.553748</td>\n",
              "      <td>127.068483</td>\n",
              "      <td>2021-09-01</td>\n",
              "      <td>2</td>\n",
              "    </tr>\n",
              "    <tr>\n",
              "      <th>2</th>\n",
              "      <td>2</td>\n",
              "      <td>8231</td>\n",
              "      <td>107</td>\n",
              "      <td>113</td>\n",
              "      <td>129</td>\n",
              "      <td>마포구 합정동</td>\n",
              "      <td>강서구 가양제3동</td>\n",
              "      <td>37.546780</td>\n",
              "      <td>126.908400</td>\n",
              "      <td>37.561656</td>\n",
              "      <td>126.860025</td>\n",
              "      <td>2021-09-01</td>\n",
              "      <td>2</td>\n",
              "    </tr>\n",
              "    <tr>\n",
              "      <th>3</th>\n",
              "      <td>3</td>\n",
              "      <td>8239</td>\n",
              "      <td>153</td>\n",
              "      <td>161</td>\n",
              "      <td>195</td>\n",
              "      <td>성동구 금호1가동</td>\n",
              "      <td>중랑구 면목제3.8동</td>\n",
              "      <td>37.552839</td>\n",
              "      <td>127.026488</td>\n",
              "      <td>37.582959</td>\n",
              "      <td>127.088082</td>\n",
              "      <td>2021-09-01</td>\n",
              "      <td>2</td>\n",
              "    </tr>\n",
              "    <tr>\n",
              "      <th>4</th>\n",
              "      <td>4</td>\n",
              "      <td>7652</td>\n",
              "      <td>170</td>\n",
              "      <td>178</td>\n",
              "      <td>192</td>\n",
              "      <td>강서구 방화제3동</td>\n",
              "      <td>강서구 발산제1동</td>\n",
              "      <td>37.583957</td>\n",
              "      <td>126.821670</td>\n",
              "      <td>37.549960</td>\n",
              "      <td>126.825017</td>\n",
              "      <td>2021-09-01</td>\n",
              "      <td>2</td>\n",
              "    </tr>\n",
              "    <tr>\n",
              "      <th>...</th>\n",
              "      <td>...</td>\n",
              "      <td>...</td>\n",
              "      <td>...</td>\n",
              "      <td>...</td>\n",
              "      <td>...</td>\n",
              "      <td>...</td>\n",
              "      <td>...</td>\n",
              "      <td>...</td>\n",
              "      <td>...</td>\n",
              "      <td>...</td>\n",
              "      <td>...</td>\n",
              "      <td>...</td>\n",
              "      <td>...</td>\n",
              "    </tr>\n",
              "    <tr>\n",
              "      <th>120738</th>\n",
              "      <td>120743</td>\n",
              "      <td>1542</td>\n",
              "      <td>1405</td>\n",
              "      <td>1410</td>\n",
              "      <td>1423</td>\n",
              "      <td>금천구 가산동</td>\n",
              "      <td>금천구 가산동</td>\n",
              "      <td>37.475163</td>\n",
              "      <td>126.886296</td>\n",
              "      <td>37.475163</td>\n",
              "      <td>126.886296</td>\n",
              "      <td>2022-08-31</td>\n",
              "      <td>2</td>\n",
              "    </tr>\n",
              "    <tr>\n",
              "      <th>120739</th>\n",
              "      <td>120744</td>\n",
              "      <td>5740</td>\n",
              "      <td>1408</td>\n",
              "      <td>1416</td>\n",
              "      <td>1422</td>\n",
              "      <td>동대문구 전농2동</td>\n",
              "      <td>노원구 중계2.3동</td>\n",
              "      <td>37.580759</td>\n",
              "      <td>127.061913</td>\n",
              "      <td>37.644074</td>\n",
              "      <td>127.066128</td>\n",
              "      <td>2022-08-31</td>\n",
              "      <td>2</td>\n",
              "    </tr>\n",
              "    <tr>\n",
              "      <th>120740</th>\n",
              "      <td>120745</td>\n",
              "      <td>6752</td>\n",
              "      <td>1420</td>\n",
              "      <td>1421</td>\n",
              "      <td>1439</td>\n",
              "      <td>마포구 아현동</td>\n",
              "      <td>서초구 방배2동</td>\n",
              "      <td>37.553950</td>\n",
              "      <td>126.955520</td>\n",
              "      <td>37.472499</td>\n",
              "      <td>126.984635</td>\n",
              "      <td>2022-08-31</td>\n",
              "      <td>2</td>\n",
              "    </tr>\n",
              "    <tr>\n",
              "      <th>120741</th>\n",
              "      <td>120746</td>\n",
              "      <td>6752</td>\n",
              "      <td>1423</td>\n",
              "      <td>23</td>\n",
              "      <td>28</td>\n",
              "      <td>서초구 방배2동</td>\n",
              "      <td>관악구 서림동</td>\n",
              "      <td>37.472499</td>\n",
              "      <td>126.984635</td>\n",
              "      <td>37.472643</td>\n",
              "      <td>126.940394</td>\n",
              "      <td>2022-08-31</td>\n",
              "      <td>2</td>\n",
              "    </tr>\n",
              "    <tr>\n",
              "      <th>120742</th>\n",
              "      <td>120747</td>\n",
              "      <td>9156</td>\n",
              "      <td>1427</td>\n",
              "      <td>1429</td>\n",
              "      <td>0</td>\n",
              "      <td>중구 신당5동</td>\n",
              "      <td>중랑구 중화2동</td>\n",
              "      <td>37.563098</td>\n",
              "      <td>127.023029</td>\n",
              "      <td>37.600265</td>\n",
              "      <td>127.075841</td>\n",
              "      <td>2022-08-31</td>\n",
              "      <td>2</td>\n",
              "    </tr>\n",
              "  </tbody>\n",
              "</table>\n",
              "<p>1294464 rows × 13 columns</p>\n",
              "</div>\n",
              "      <button class=\"colab-df-convert\" onclick=\"convertToInteractive('df-bc82a294-d636-4640-9896-a91d7a5d241b')\"\n",
              "              title=\"Convert this dataframe to an interactive table.\"\n",
              "              style=\"display:none;\">\n",
              "        \n",
              "  <svg xmlns=\"http://www.w3.org/2000/svg\" height=\"24px\"viewBox=\"0 0 24 24\"\n",
              "       width=\"24px\">\n",
              "    <path d=\"M0 0h24v24H0V0z\" fill=\"none\"/>\n",
              "    <path d=\"M18.56 5.44l.94 2.06.94-2.06 2.06-.94-2.06-.94-.94-2.06-.94 2.06-2.06.94zm-11 1L8.5 8.5l.94-2.06 2.06-.94-2.06-.94L8.5 2.5l-.94 2.06-2.06.94zm10 10l.94 2.06.94-2.06 2.06-.94-2.06-.94-.94-2.06-.94 2.06-2.06.94z\"/><path d=\"M17.41 7.96l-1.37-1.37c-.4-.4-.92-.59-1.43-.59-.52 0-1.04.2-1.43.59L10.3 9.45l-7.72 7.72c-.78.78-.78 2.05 0 2.83L4 21.41c.39.39.9.59 1.41.59.51 0 1.02-.2 1.41-.59l7.78-7.78 2.81-2.81c.8-.78.8-2.07 0-2.86zM5.41 20L4 18.59l7.72-7.72 1.47 1.35L5.41 20z\"/>\n",
              "  </svg>\n",
              "      </button>\n",
              "      \n",
              "  <style>\n",
              "    .colab-df-container {\n",
              "      display:flex;\n",
              "      flex-wrap:wrap;\n",
              "      gap: 12px;\n",
              "    }\n",
              "\n",
              "    .colab-df-convert {\n",
              "      background-color: #E8F0FE;\n",
              "      border: none;\n",
              "      border-radius: 50%;\n",
              "      cursor: pointer;\n",
              "      display: none;\n",
              "      fill: #1967D2;\n",
              "      height: 32px;\n",
              "      padding: 0 0 0 0;\n",
              "      width: 32px;\n",
              "    }\n",
              "\n",
              "    .colab-df-convert:hover {\n",
              "      background-color: #E2EBFA;\n",
              "      box-shadow: 0px 1px 2px rgba(60, 64, 67, 0.3), 0px 1px 3px 1px rgba(60, 64, 67, 0.15);\n",
              "      fill: #174EA6;\n",
              "    }\n",
              "\n",
              "    [theme=dark] .colab-df-convert {\n",
              "      background-color: #3B4455;\n",
              "      fill: #D2E3FC;\n",
              "    }\n",
              "\n",
              "    [theme=dark] .colab-df-convert:hover {\n",
              "      background-color: #434B5C;\n",
              "      box-shadow: 0px 1px 3px 1px rgba(0, 0, 0, 0.15);\n",
              "      filter: drop-shadow(0px 1px 2px rgba(0, 0, 0, 0.3));\n",
              "      fill: #FFFFFF;\n",
              "    }\n",
              "  </style>\n",
              "\n",
              "      <script>\n",
              "        const buttonEl =\n",
              "          document.querySelector('#df-bc82a294-d636-4640-9896-a91d7a5d241b button.colab-df-convert');\n",
              "        buttonEl.style.display =\n",
              "          google.colab.kernel.accessAllowed ? 'block' : 'none';\n",
              "\n",
              "        async function convertToInteractive(key) {\n",
              "          const element = document.querySelector('#df-bc82a294-d636-4640-9896-a91d7a5d241b');\n",
              "          const dataTable =\n",
              "            await google.colab.kernel.invokeFunction('convertToInteractive',\n",
              "                                                     [key], {});\n",
              "          if (!dataTable) return;\n",
              "\n",
              "          const docLinkHtml = 'Like what you see? Visit the ' +\n",
              "            '<a target=\"_blank\" href=https://colab.research.google.com/notebooks/data_table.ipynb>data table notebook</a>'\n",
              "            + ' to learn more about interactive tables.';\n",
              "          element.innerHTML = '';\n",
              "          dataTable['output_type'] = 'display_data';\n",
              "          await google.colab.output.renderOutput(dataTable, element);\n",
              "          const docLink = document.createElement('div');\n",
              "          docLink.innerHTML = docLinkHtml;\n",
              "          element.appendChild(docLink);\n",
              "        }\n",
              "      </script>\n",
              "    </div>\n",
              "  </div>\n",
              "  "
            ]
          },
          "metadata": {},
          "execution_count": 200
        }
      ]
    },
    {
      "cell_type": "code",
      "execution_count": null,
      "metadata": {
        "id": "YR_vF2DOxvjc"
      },
      "outputs": [],
      "source": [
        "df = df[['receipt_time', 'set_time', 'start_latitude', 'start_longitude','day']]"
      ]
    },
    {
      "cell_type": "code",
      "execution_count": null,
      "metadata": {
        "id": "xP8w0SJvxxN8",
        "colab": {
          "base_uri": "https://localhost:8080/"
        },
        "outputId": "95cbc0e8-f97a-467c-cc0c-eb76c5b6d520"
      },
      "outputs": [
        {
          "output_type": "stream",
          "name": "stderr",
          "text": [
            "<ipython-input-202-86f7918de5d9>:1: SettingWithCopyWarning: \n",
            "A value is trying to be set on a copy of a slice from a DataFrame.\n",
            "Try using .loc[row_indexer,col_indexer] = value instead\n",
            "\n",
            "See the caveats in the documentation: https://pandas.pydata.org/pandas-docs/stable/user_guide/indexing.html#returning-a-view-versus-a-copy\n",
            "  df['to_drop'] = df['set_time'] > df['receipt_time']\n"
          ]
        }
      ],
      "source": [
        "df['to_drop'] = df['set_time'] > df['receipt_time']"
      ]
    },
    {
      "cell_type": "code",
      "execution_count": null,
      "metadata": {
        "colab": {
          "base_uri": "https://localhost:8080/"
        },
        "id": "R1S1Z5_bxyTw",
        "outputId": "f93aaa30-86ac-4815-d7ae-14d613b79903"
      },
      "outputs": [
        {
          "output_type": "execute_result",
          "data": {
            "text/plain": [
              "True     1218860\n",
              "False      75604\n",
              "Name: to_drop, dtype: int64"
            ]
          },
          "metadata": {},
          "execution_count": 203
        }
      ],
      "source": [
        "df.to_drop.value_counts()"
      ]
    },
    {
      "cell_type": "code",
      "execution_count": null,
      "metadata": {
        "id": "smA-URhMx00s"
      },
      "outputs": [],
      "source": [
        "df = df.reset_index(drop=True)"
      ]
    },
    {
      "cell_type": "code",
      "execution_count": null,
      "metadata": {
        "colab": {
          "base_uri": "https://localhost:8080/",
          "height": 424
        },
        "id": "o-UxgHZcx2wY",
        "outputId": "c2074d73-1c03-4174-a7f5-480deac6ab74"
      },
      "outputs": [
        {
          "output_type": "execute_result",
          "data": {
            "text/plain": [
              "         receipt_time  set_time  start_latitude  start_longitude  day  to_drop\n",
              "0                  12        63       37.573077       127.003731    2     True\n",
              "1                  27        64       37.530638       127.083615    2     True\n",
              "2                 107       113       37.546780       126.908400    2     True\n",
              "3                 153       161       37.552839       127.026488    2     True\n",
              "4                 170       178       37.583957       126.821670    2     True\n",
              "...               ...       ...             ...              ...  ...      ...\n",
              "1294459          1405      1410       37.475163       126.886296    2     True\n",
              "1294460          1408      1416       37.580759       127.061913    2     True\n",
              "1294461          1420      1421       37.553950       126.955520    2     True\n",
              "1294462          1423        23       37.472499       126.984635    2    False\n",
              "1294463          1427      1429       37.563098       127.023029    2     True\n",
              "\n",
              "[1294464 rows x 6 columns]"
            ],
            "text/html": [
              "\n",
              "  <div id=\"df-56d04020-faf5-4fcf-b02e-e6705c6ef222\">\n",
              "    <div class=\"colab-df-container\">\n",
              "      <div>\n",
              "<style scoped>\n",
              "    .dataframe tbody tr th:only-of-type {\n",
              "        vertical-align: middle;\n",
              "    }\n",
              "\n",
              "    .dataframe tbody tr th {\n",
              "        vertical-align: top;\n",
              "    }\n",
              "\n",
              "    .dataframe thead th {\n",
              "        text-align: right;\n",
              "    }\n",
              "</style>\n",
              "<table border=\"1\" class=\"dataframe\">\n",
              "  <thead>\n",
              "    <tr style=\"text-align: right;\">\n",
              "      <th></th>\n",
              "      <th>receipt_time</th>\n",
              "      <th>set_time</th>\n",
              "      <th>start_latitude</th>\n",
              "      <th>start_longitude</th>\n",
              "      <th>day</th>\n",
              "      <th>to_drop</th>\n",
              "    </tr>\n",
              "  </thead>\n",
              "  <tbody>\n",
              "    <tr>\n",
              "      <th>0</th>\n",
              "      <td>12</td>\n",
              "      <td>63</td>\n",
              "      <td>37.573077</td>\n",
              "      <td>127.003731</td>\n",
              "      <td>2</td>\n",
              "      <td>True</td>\n",
              "    </tr>\n",
              "    <tr>\n",
              "      <th>1</th>\n",
              "      <td>27</td>\n",
              "      <td>64</td>\n",
              "      <td>37.530638</td>\n",
              "      <td>127.083615</td>\n",
              "      <td>2</td>\n",
              "      <td>True</td>\n",
              "    </tr>\n",
              "    <tr>\n",
              "      <th>2</th>\n",
              "      <td>107</td>\n",
              "      <td>113</td>\n",
              "      <td>37.546780</td>\n",
              "      <td>126.908400</td>\n",
              "      <td>2</td>\n",
              "      <td>True</td>\n",
              "    </tr>\n",
              "    <tr>\n",
              "      <th>3</th>\n",
              "      <td>153</td>\n",
              "      <td>161</td>\n",
              "      <td>37.552839</td>\n",
              "      <td>127.026488</td>\n",
              "      <td>2</td>\n",
              "      <td>True</td>\n",
              "    </tr>\n",
              "    <tr>\n",
              "      <th>4</th>\n",
              "      <td>170</td>\n",
              "      <td>178</td>\n",
              "      <td>37.583957</td>\n",
              "      <td>126.821670</td>\n",
              "      <td>2</td>\n",
              "      <td>True</td>\n",
              "    </tr>\n",
              "    <tr>\n",
              "      <th>...</th>\n",
              "      <td>...</td>\n",
              "      <td>...</td>\n",
              "      <td>...</td>\n",
              "      <td>...</td>\n",
              "      <td>...</td>\n",
              "      <td>...</td>\n",
              "    </tr>\n",
              "    <tr>\n",
              "      <th>1294459</th>\n",
              "      <td>1405</td>\n",
              "      <td>1410</td>\n",
              "      <td>37.475163</td>\n",
              "      <td>126.886296</td>\n",
              "      <td>2</td>\n",
              "      <td>True</td>\n",
              "    </tr>\n",
              "    <tr>\n",
              "      <th>1294460</th>\n",
              "      <td>1408</td>\n",
              "      <td>1416</td>\n",
              "      <td>37.580759</td>\n",
              "      <td>127.061913</td>\n",
              "      <td>2</td>\n",
              "      <td>True</td>\n",
              "    </tr>\n",
              "    <tr>\n",
              "      <th>1294461</th>\n",
              "      <td>1420</td>\n",
              "      <td>1421</td>\n",
              "      <td>37.553950</td>\n",
              "      <td>126.955520</td>\n",
              "      <td>2</td>\n",
              "      <td>True</td>\n",
              "    </tr>\n",
              "    <tr>\n",
              "      <th>1294462</th>\n",
              "      <td>1423</td>\n",
              "      <td>23</td>\n",
              "      <td>37.472499</td>\n",
              "      <td>126.984635</td>\n",
              "      <td>2</td>\n",
              "      <td>False</td>\n",
              "    </tr>\n",
              "    <tr>\n",
              "      <th>1294463</th>\n",
              "      <td>1427</td>\n",
              "      <td>1429</td>\n",
              "      <td>37.563098</td>\n",
              "      <td>127.023029</td>\n",
              "      <td>2</td>\n",
              "      <td>True</td>\n",
              "    </tr>\n",
              "  </tbody>\n",
              "</table>\n",
              "<p>1294464 rows × 6 columns</p>\n",
              "</div>\n",
              "      <button class=\"colab-df-convert\" onclick=\"convertToInteractive('df-56d04020-faf5-4fcf-b02e-e6705c6ef222')\"\n",
              "              title=\"Convert this dataframe to an interactive table.\"\n",
              "              style=\"display:none;\">\n",
              "        \n",
              "  <svg xmlns=\"http://www.w3.org/2000/svg\" height=\"24px\"viewBox=\"0 0 24 24\"\n",
              "       width=\"24px\">\n",
              "    <path d=\"M0 0h24v24H0V0z\" fill=\"none\"/>\n",
              "    <path d=\"M18.56 5.44l.94 2.06.94-2.06 2.06-.94-2.06-.94-.94-2.06-.94 2.06-2.06.94zm-11 1L8.5 8.5l.94-2.06 2.06-.94-2.06-.94L8.5 2.5l-.94 2.06-2.06.94zm10 10l.94 2.06.94-2.06 2.06-.94-2.06-.94-.94-2.06-.94 2.06-2.06.94z\"/><path d=\"M17.41 7.96l-1.37-1.37c-.4-.4-.92-.59-1.43-.59-.52 0-1.04.2-1.43.59L10.3 9.45l-7.72 7.72c-.78.78-.78 2.05 0 2.83L4 21.41c.39.39.9.59 1.41.59.51 0 1.02-.2 1.41-.59l7.78-7.78 2.81-2.81c.8-.78.8-2.07 0-2.86zM5.41 20L4 18.59l7.72-7.72 1.47 1.35L5.41 20z\"/>\n",
              "  </svg>\n",
              "      </button>\n",
              "      \n",
              "  <style>\n",
              "    .colab-df-container {\n",
              "      display:flex;\n",
              "      flex-wrap:wrap;\n",
              "      gap: 12px;\n",
              "    }\n",
              "\n",
              "    .colab-df-convert {\n",
              "      background-color: #E8F0FE;\n",
              "      border: none;\n",
              "      border-radius: 50%;\n",
              "      cursor: pointer;\n",
              "      display: none;\n",
              "      fill: #1967D2;\n",
              "      height: 32px;\n",
              "      padding: 0 0 0 0;\n",
              "      width: 32px;\n",
              "    }\n",
              "\n",
              "    .colab-df-convert:hover {\n",
              "      background-color: #E2EBFA;\n",
              "      box-shadow: 0px 1px 2px rgba(60, 64, 67, 0.3), 0px 1px 3px 1px rgba(60, 64, 67, 0.15);\n",
              "      fill: #174EA6;\n",
              "    }\n",
              "\n",
              "    [theme=dark] .colab-df-convert {\n",
              "      background-color: #3B4455;\n",
              "      fill: #D2E3FC;\n",
              "    }\n",
              "\n",
              "    [theme=dark] .colab-df-convert:hover {\n",
              "      background-color: #434B5C;\n",
              "      box-shadow: 0px 1px 3px 1px rgba(0, 0, 0, 0.15);\n",
              "      filter: drop-shadow(0px 1px 2px rgba(0, 0, 0, 0.3));\n",
              "      fill: #FFFFFF;\n",
              "    }\n",
              "  </style>\n",
              "\n",
              "      <script>\n",
              "        const buttonEl =\n",
              "          document.querySelector('#df-56d04020-faf5-4fcf-b02e-e6705c6ef222 button.colab-df-convert');\n",
              "        buttonEl.style.display =\n",
              "          google.colab.kernel.accessAllowed ? 'block' : 'none';\n",
              "\n",
              "        async function convertToInteractive(key) {\n",
              "          const element = document.querySelector('#df-56d04020-faf5-4fcf-b02e-e6705c6ef222');\n",
              "          const dataTable =\n",
              "            await google.colab.kernel.invokeFunction('convertToInteractive',\n",
              "                                                     [key], {});\n",
              "          if (!dataTable) return;\n",
              "\n",
              "          const docLinkHtml = 'Like what you see? Visit the ' +\n",
              "            '<a target=\"_blank\" href=https://colab.research.google.com/notebooks/data_table.ipynb>data table notebook</a>'\n",
              "            + ' to learn more about interactive tables.';\n",
              "          element.innerHTML = '';\n",
              "          dataTable['output_type'] = 'display_data';\n",
              "          await google.colab.output.renderOutput(dataTable, element);\n",
              "          const docLink = document.createElement('div');\n",
              "          docLink.innerHTML = docLinkHtml;\n",
              "          element.appendChild(docLink);\n",
              "        }\n",
              "      </script>\n",
              "    </div>\n",
              "  </div>\n",
              "  "
            ]
          },
          "metadata": {},
          "execution_count": 205
        }
      ],
      "source": [
        "df"
      ]
    },
    {
      "cell_type": "code",
      "execution_count": null,
      "metadata": {
        "colab": {
          "base_uri": "https://localhost:8080/",
          "height": 424
        },
        "id": "p4PLPQ7Ex4SC",
        "outputId": "22d6b6e5-5a5d-4ed4-e328-1519721265db"
      },
      "outputs": [
        {
          "output_type": "execute_result",
          "data": {
            "text/plain": [
              "         receipt_time  set_time  start_latitude  start_longitude  day  to_drop\n",
              "0                  12        63       37.573077       127.003731    2     True\n",
              "1                  27        64       37.530638       127.083615    2     True\n",
              "2                 107       113       37.546780       126.908400    2     True\n",
              "3                 153       161       37.552839       127.026488    2     True\n",
              "4                 170       178       37.583957       126.821670    2     True\n",
              "...               ...       ...             ...              ...  ...      ...\n",
              "1294458          1402      1411       37.605634       127.016582    2     True\n",
              "1294459          1405      1410       37.475163       126.886296    2     True\n",
              "1294460          1408      1416       37.580759       127.061913    2     True\n",
              "1294461          1420      1421       37.553950       126.955520    2     True\n",
              "1294463          1427      1429       37.563098       127.023029    2     True\n",
              "\n",
              "[1218860 rows x 6 columns]"
            ],
            "text/html": [
              "\n",
              "  <div id=\"df-6bf74979-31f9-41fd-9caa-0c02250677ac\">\n",
              "    <div class=\"colab-df-container\">\n",
              "      <div>\n",
              "<style scoped>\n",
              "    .dataframe tbody tr th:only-of-type {\n",
              "        vertical-align: middle;\n",
              "    }\n",
              "\n",
              "    .dataframe tbody tr th {\n",
              "        vertical-align: top;\n",
              "    }\n",
              "\n",
              "    .dataframe thead th {\n",
              "        text-align: right;\n",
              "    }\n",
              "</style>\n",
              "<table border=\"1\" class=\"dataframe\">\n",
              "  <thead>\n",
              "    <tr style=\"text-align: right;\">\n",
              "      <th></th>\n",
              "      <th>receipt_time</th>\n",
              "      <th>set_time</th>\n",
              "      <th>start_latitude</th>\n",
              "      <th>start_longitude</th>\n",
              "      <th>day</th>\n",
              "      <th>to_drop</th>\n",
              "    </tr>\n",
              "  </thead>\n",
              "  <tbody>\n",
              "    <tr>\n",
              "      <th>0</th>\n",
              "      <td>12</td>\n",
              "      <td>63</td>\n",
              "      <td>37.573077</td>\n",
              "      <td>127.003731</td>\n",
              "      <td>2</td>\n",
              "      <td>True</td>\n",
              "    </tr>\n",
              "    <tr>\n",
              "      <th>1</th>\n",
              "      <td>27</td>\n",
              "      <td>64</td>\n",
              "      <td>37.530638</td>\n",
              "      <td>127.083615</td>\n",
              "      <td>2</td>\n",
              "      <td>True</td>\n",
              "    </tr>\n",
              "    <tr>\n",
              "      <th>2</th>\n",
              "      <td>107</td>\n",
              "      <td>113</td>\n",
              "      <td>37.546780</td>\n",
              "      <td>126.908400</td>\n",
              "      <td>2</td>\n",
              "      <td>True</td>\n",
              "    </tr>\n",
              "    <tr>\n",
              "      <th>3</th>\n",
              "      <td>153</td>\n",
              "      <td>161</td>\n",
              "      <td>37.552839</td>\n",
              "      <td>127.026488</td>\n",
              "      <td>2</td>\n",
              "      <td>True</td>\n",
              "    </tr>\n",
              "    <tr>\n",
              "      <th>4</th>\n",
              "      <td>170</td>\n",
              "      <td>178</td>\n",
              "      <td>37.583957</td>\n",
              "      <td>126.821670</td>\n",
              "      <td>2</td>\n",
              "      <td>True</td>\n",
              "    </tr>\n",
              "    <tr>\n",
              "      <th>...</th>\n",
              "      <td>...</td>\n",
              "      <td>...</td>\n",
              "      <td>...</td>\n",
              "      <td>...</td>\n",
              "      <td>...</td>\n",
              "      <td>...</td>\n",
              "    </tr>\n",
              "    <tr>\n",
              "      <th>1294458</th>\n",
              "      <td>1402</td>\n",
              "      <td>1411</td>\n",
              "      <td>37.605634</td>\n",
              "      <td>127.016582</td>\n",
              "      <td>2</td>\n",
              "      <td>True</td>\n",
              "    </tr>\n",
              "    <tr>\n",
              "      <th>1294459</th>\n",
              "      <td>1405</td>\n",
              "      <td>1410</td>\n",
              "      <td>37.475163</td>\n",
              "      <td>126.886296</td>\n",
              "      <td>2</td>\n",
              "      <td>True</td>\n",
              "    </tr>\n",
              "    <tr>\n",
              "      <th>1294460</th>\n",
              "      <td>1408</td>\n",
              "      <td>1416</td>\n",
              "      <td>37.580759</td>\n",
              "      <td>127.061913</td>\n",
              "      <td>2</td>\n",
              "      <td>True</td>\n",
              "    </tr>\n",
              "    <tr>\n",
              "      <th>1294461</th>\n",
              "      <td>1420</td>\n",
              "      <td>1421</td>\n",
              "      <td>37.553950</td>\n",
              "      <td>126.955520</td>\n",
              "      <td>2</td>\n",
              "      <td>True</td>\n",
              "    </tr>\n",
              "    <tr>\n",
              "      <th>1294463</th>\n",
              "      <td>1427</td>\n",
              "      <td>1429</td>\n",
              "      <td>37.563098</td>\n",
              "      <td>127.023029</td>\n",
              "      <td>2</td>\n",
              "      <td>True</td>\n",
              "    </tr>\n",
              "  </tbody>\n",
              "</table>\n",
              "<p>1218860 rows × 6 columns</p>\n",
              "</div>\n",
              "      <button class=\"colab-df-convert\" onclick=\"convertToInteractive('df-6bf74979-31f9-41fd-9caa-0c02250677ac')\"\n",
              "              title=\"Convert this dataframe to an interactive table.\"\n",
              "              style=\"display:none;\">\n",
              "        \n",
              "  <svg xmlns=\"http://www.w3.org/2000/svg\" height=\"24px\"viewBox=\"0 0 24 24\"\n",
              "       width=\"24px\">\n",
              "    <path d=\"M0 0h24v24H0V0z\" fill=\"none\"/>\n",
              "    <path d=\"M18.56 5.44l.94 2.06.94-2.06 2.06-.94-2.06-.94-.94-2.06-.94 2.06-2.06.94zm-11 1L8.5 8.5l.94-2.06 2.06-.94-2.06-.94L8.5 2.5l-.94 2.06-2.06.94zm10 10l.94 2.06.94-2.06 2.06-.94-2.06-.94-.94-2.06-.94 2.06-2.06.94z\"/><path d=\"M17.41 7.96l-1.37-1.37c-.4-.4-.92-.59-1.43-.59-.52 0-1.04.2-1.43.59L10.3 9.45l-7.72 7.72c-.78.78-.78 2.05 0 2.83L4 21.41c.39.39.9.59 1.41.59.51 0 1.02-.2 1.41-.59l7.78-7.78 2.81-2.81c.8-.78.8-2.07 0-2.86zM5.41 20L4 18.59l7.72-7.72 1.47 1.35L5.41 20z\"/>\n",
              "  </svg>\n",
              "      </button>\n",
              "      \n",
              "  <style>\n",
              "    .colab-df-container {\n",
              "      display:flex;\n",
              "      flex-wrap:wrap;\n",
              "      gap: 12px;\n",
              "    }\n",
              "\n",
              "    .colab-df-convert {\n",
              "      background-color: #E8F0FE;\n",
              "      border: none;\n",
              "      border-radius: 50%;\n",
              "      cursor: pointer;\n",
              "      display: none;\n",
              "      fill: #1967D2;\n",
              "      height: 32px;\n",
              "      padding: 0 0 0 0;\n",
              "      width: 32px;\n",
              "    }\n",
              "\n",
              "    .colab-df-convert:hover {\n",
              "      background-color: #E2EBFA;\n",
              "      box-shadow: 0px 1px 2px rgba(60, 64, 67, 0.3), 0px 1px 3px 1px rgba(60, 64, 67, 0.15);\n",
              "      fill: #174EA6;\n",
              "    }\n",
              "\n",
              "    [theme=dark] .colab-df-convert {\n",
              "      background-color: #3B4455;\n",
              "      fill: #D2E3FC;\n",
              "    }\n",
              "\n",
              "    [theme=dark] .colab-df-convert:hover {\n",
              "      background-color: #434B5C;\n",
              "      box-shadow: 0px 1px 3px 1px rgba(0, 0, 0, 0.15);\n",
              "      filter: drop-shadow(0px 1px 2px rgba(0, 0, 0, 0.3));\n",
              "      fill: #FFFFFF;\n",
              "    }\n",
              "  </style>\n",
              "\n",
              "      <script>\n",
              "        const buttonEl =\n",
              "          document.querySelector('#df-6bf74979-31f9-41fd-9caa-0c02250677ac button.colab-df-convert');\n",
              "        buttonEl.style.display =\n",
              "          google.colab.kernel.accessAllowed ? 'block' : 'none';\n",
              "\n",
              "        async function convertToInteractive(key) {\n",
              "          const element = document.querySelector('#df-6bf74979-31f9-41fd-9caa-0c02250677ac');\n",
              "          const dataTable =\n",
              "            await google.colab.kernel.invokeFunction('convertToInteractive',\n",
              "                                                     [key], {});\n",
              "          if (!dataTable) return;\n",
              "\n",
              "          const docLinkHtml = 'Like what you see? Visit the ' +\n",
              "            '<a target=\"_blank\" href=https://colab.research.google.com/notebooks/data_table.ipynb>data table notebook</a>'\n",
              "            + ' to learn more about interactive tables.';\n",
              "          element.innerHTML = '';\n",
              "          dataTable['output_type'] = 'display_data';\n",
              "          await google.colab.output.renderOutput(dataTable, element);\n",
              "          const docLink = document.createElement('div');\n",
              "          docLink.innerHTML = docLinkHtml;\n",
              "          element.appendChild(docLink);\n",
              "        }\n",
              "      </script>\n",
              "    </div>\n",
              "  </div>\n",
              "  "
            ]
          },
          "metadata": {},
          "execution_count": 206
        }
      ],
      "source": [
        "idx = df[df['to_drop'] == False].index\n",
        "df = df.drop(idx)\n",
        "df"
      ]
    },
    {
      "cell_type": "code",
      "execution_count": null,
      "metadata": {
        "colab": {
          "base_uri": "https://localhost:8080/"
        },
        "id": "yAbbZNRZx5rX",
        "outputId": "9d7962a7-02f2-4caa-d9ef-a6eeff1bd277"
      },
      "outputs": [
        {
          "output_type": "execute_result",
          "data": {
            "text/plain": [
              "True    1218860\n",
              "Name: to_drop, dtype: int64"
            ]
          },
          "metadata": {},
          "execution_count": 207
        }
      ],
      "source": [
        "df.to_drop.value_counts()"
      ]
    },
    {
      "cell_type": "code",
      "execution_count": null,
      "metadata": {
        "id": "e1olpfLkx6wO"
      },
      "outputs": [],
      "source": [
        "df['receipt_to_set_time'] = df['set_time'] - df['receipt_time']"
      ]
    },
    {
      "cell_type": "code",
      "execution_count": null,
      "metadata": {
        "colab": {
          "base_uri": "https://localhost:8080/"
        },
        "id": "Ibdyv799x6uC",
        "outputId": "bfe4be12-b53b-46b5-de57-24694962f259"
      },
      "outputs": [
        {
          "output_type": "execute_result",
          "data": {
            "text/plain": [
              "receipt_time           0\n",
              "set_time               0\n",
              "start_latitude         0\n",
              "start_longitude        0\n",
              "day                    0\n",
              "to_drop                0\n",
              "receipt_to_set_time    0\n",
              "dtype: int64"
            ]
          },
          "metadata": {},
          "execution_count": 209
        }
      ],
      "source": [
        "df.isna().sum()"
      ]
    },
    {
      "cell_type": "code",
      "source": [
        "'''\n",
        "#receipt_time 100이하 삭제\n",
        "df = df[df.receipt_to_set_time < 100]\n",
        "df.reset_index(drop=True, inplace=True)\n",
        "'''"
      ],
      "metadata": {
        "id": "cqAKgyg7IxPc"
      },
      "execution_count": null,
      "outputs": []
    },
    {
      "cell_type": "code",
      "execution_count": null,
      "metadata": {
        "id": "cJuwFMeJx6r-"
      },
      "outputs": [],
      "source": [
        "data = df[['receipt_time', 'start_latitude', 'start_longitude','day']]\n",
        "target = df[['receipt_to_set_time']]"
      ]
    },
    {
      "cell_type": "code",
      "execution_count": null,
      "metadata": {
        "colab": {
          "base_uri": "https://localhost:8080/"
        },
        "id": "LQrlBPxTx6pn",
        "outputId": "64da86c9-2fcb-496f-8527-334b6d1ac42f"
      },
      "outputs": [
        {
          "output_type": "stream",
          "name": "stderr",
          "text": [
            "<ipython-input-211-3404a13c2c79>:1: SettingWithCopyWarning: \n",
            "A value is trying to be set on a copy of a slice from a DataFrame.\n",
            "Try using .loc[row_indexer,col_indexer] = value instead\n",
            "\n",
            "See the caveats in the documentation: https://pandas.pydata.org/pandas-docs/stable/user_guide/indexing.html#returning-a-view-versus-a-copy\n",
            "  data['receipt_time'] = data[\"receipt_time\"].apply(lambda x: x/60)\n"
          ]
        }
      ],
      "source": [
        "data['receipt_time'] = data[\"receipt_time\"].apply(lambda x: x/60)"
      ]
    },
    {
      "cell_type": "code",
      "execution_count": null,
      "metadata": {
        "colab": {
          "base_uri": "https://localhost:8080/"
        },
        "id": "-WprJuiux6nU",
        "outputId": "a0989f61-dd60-471e-9db4-a8b03a7b1fc7"
      },
      "outputs": [
        {
          "output_type": "stream",
          "name": "stderr",
          "text": [
            "<ipython-input-87-4dee70019b20>:1: SettingWithCopyWarning: \n",
            "A value is trying to be set on a copy of a slice from a DataFrame.\n",
            "Try using .loc[row_indexer,col_indexer] = value instead\n",
            "\n",
            "See the caveats in the documentation: https://pandas.pydata.org/pandas-docs/stable/user_guide/indexing.html#returning-a-view-versus-a-copy\n",
            "  target['receipt_to_set_time'] /= 60\n"
          ]
        }
      ],
      "source": [
        "'''\n",
        "target['receipt_to_set_time'] /= 60\n",
        "'''"
      ]
    },
    {
      "cell_type": "code",
      "execution_count": null,
      "metadata": {
        "colab": {
          "base_uri": "https://localhost:8080/",
          "height": 424
        },
        "id": "pOn0v7WQx6i0",
        "outputId": "e805e2eb-9bf5-4e93-ac8a-511d1f8e16dc"
      },
      "outputs": [
        {
          "output_type": "execute_result",
          "data": {
            "text/plain": [
              "         receipt_time  start_latitude  start_longitude  day\n",
              "0            0.200000       37.573077       127.003731    2\n",
              "1            0.450000       37.530638       127.083615    2\n",
              "2            1.783333       37.546780       126.908400    2\n",
              "3            2.550000       37.552839       127.026488    2\n",
              "4            2.833333       37.583957       126.821670    2\n",
              "...               ...             ...              ...  ...\n",
              "1294458     23.366667       37.605634       127.016582    2\n",
              "1294459     23.416667       37.475163       126.886296    2\n",
              "1294460     23.466667       37.580759       127.061913    2\n",
              "1294461     23.666667       37.553950       126.955520    2\n",
              "1294463     23.783333       37.563098       127.023029    2\n",
              "\n",
              "[1218860 rows x 4 columns]"
            ],
            "text/html": [
              "\n",
              "  <div id=\"df-ee670cdc-5773-4270-a705-e603ec984c58\">\n",
              "    <div class=\"colab-df-container\">\n",
              "      <div>\n",
              "<style scoped>\n",
              "    .dataframe tbody tr th:only-of-type {\n",
              "        vertical-align: middle;\n",
              "    }\n",
              "\n",
              "    .dataframe tbody tr th {\n",
              "        vertical-align: top;\n",
              "    }\n",
              "\n",
              "    .dataframe thead th {\n",
              "        text-align: right;\n",
              "    }\n",
              "</style>\n",
              "<table border=\"1\" class=\"dataframe\">\n",
              "  <thead>\n",
              "    <tr style=\"text-align: right;\">\n",
              "      <th></th>\n",
              "      <th>receipt_time</th>\n",
              "      <th>start_latitude</th>\n",
              "      <th>start_longitude</th>\n",
              "      <th>day</th>\n",
              "    </tr>\n",
              "  </thead>\n",
              "  <tbody>\n",
              "    <tr>\n",
              "      <th>0</th>\n",
              "      <td>0.200000</td>\n",
              "      <td>37.573077</td>\n",
              "      <td>127.003731</td>\n",
              "      <td>2</td>\n",
              "    </tr>\n",
              "    <tr>\n",
              "      <th>1</th>\n",
              "      <td>0.450000</td>\n",
              "      <td>37.530638</td>\n",
              "      <td>127.083615</td>\n",
              "      <td>2</td>\n",
              "    </tr>\n",
              "    <tr>\n",
              "      <th>2</th>\n",
              "      <td>1.783333</td>\n",
              "      <td>37.546780</td>\n",
              "      <td>126.908400</td>\n",
              "      <td>2</td>\n",
              "    </tr>\n",
              "    <tr>\n",
              "      <th>3</th>\n",
              "      <td>2.550000</td>\n",
              "      <td>37.552839</td>\n",
              "      <td>127.026488</td>\n",
              "      <td>2</td>\n",
              "    </tr>\n",
              "    <tr>\n",
              "      <th>4</th>\n",
              "      <td>2.833333</td>\n",
              "      <td>37.583957</td>\n",
              "      <td>126.821670</td>\n",
              "      <td>2</td>\n",
              "    </tr>\n",
              "    <tr>\n",
              "      <th>...</th>\n",
              "      <td>...</td>\n",
              "      <td>...</td>\n",
              "      <td>...</td>\n",
              "      <td>...</td>\n",
              "    </tr>\n",
              "    <tr>\n",
              "      <th>1294458</th>\n",
              "      <td>23.366667</td>\n",
              "      <td>37.605634</td>\n",
              "      <td>127.016582</td>\n",
              "      <td>2</td>\n",
              "    </tr>\n",
              "    <tr>\n",
              "      <th>1294459</th>\n",
              "      <td>23.416667</td>\n",
              "      <td>37.475163</td>\n",
              "      <td>126.886296</td>\n",
              "      <td>2</td>\n",
              "    </tr>\n",
              "    <tr>\n",
              "      <th>1294460</th>\n",
              "      <td>23.466667</td>\n",
              "      <td>37.580759</td>\n",
              "      <td>127.061913</td>\n",
              "      <td>2</td>\n",
              "    </tr>\n",
              "    <tr>\n",
              "      <th>1294461</th>\n",
              "      <td>23.666667</td>\n",
              "      <td>37.553950</td>\n",
              "      <td>126.955520</td>\n",
              "      <td>2</td>\n",
              "    </tr>\n",
              "    <tr>\n",
              "      <th>1294463</th>\n",
              "      <td>23.783333</td>\n",
              "      <td>37.563098</td>\n",
              "      <td>127.023029</td>\n",
              "      <td>2</td>\n",
              "    </tr>\n",
              "  </tbody>\n",
              "</table>\n",
              "<p>1218860 rows × 4 columns</p>\n",
              "</div>\n",
              "      <button class=\"colab-df-convert\" onclick=\"convertToInteractive('df-ee670cdc-5773-4270-a705-e603ec984c58')\"\n",
              "              title=\"Convert this dataframe to an interactive table.\"\n",
              "              style=\"display:none;\">\n",
              "        \n",
              "  <svg xmlns=\"http://www.w3.org/2000/svg\" height=\"24px\"viewBox=\"0 0 24 24\"\n",
              "       width=\"24px\">\n",
              "    <path d=\"M0 0h24v24H0V0z\" fill=\"none\"/>\n",
              "    <path d=\"M18.56 5.44l.94 2.06.94-2.06 2.06-.94-2.06-.94-.94-2.06-.94 2.06-2.06.94zm-11 1L8.5 8.5l.94-2.06 2.06-.94-2.06-.94L8.5 2.5l-.94 2.06-2.06.94zm10 10l.94 2.06.94-2.06 2.06-.94-2.06-.94-.94-2.06-.94 2.06-2.06.94z\"/><path d=\"M17.41 7.96l-1.37-1.37c-.4-.4-.92-.59-1.43-.59-.52 0-1.04.2-1.43.59L10.3 9.45l-7.72 7.72c-.78.78-.78 2.05 0 2.83L4 21.41c.39.39.9.59 1.41.59.51 0 1.02-.2 1.41-.59l7.78-7.78 2.81-2.81c.8-.78.8-2.07 0-2.86zM5.41 20L4 18.59l7.72-7.72 1.47 1.35L5.41 20z\"/>\n",
              "  </svg>\n",
              "      </button>\n",
              "      \n",
              "  <style>\n",
              "    .colab-df-container {\n",
              "      display:flex;\n",
              "      flex-wrap:wrap;\n",
              "      gap: 12px;\n",
              "    }\n",
              "\n",
              "    .colab-df-convert {\n",
              "      background-color: #E8F0FE;\n",
              "      border: none;\n",
              "      border-radius: 50%;\n",
              "      cursor: pointer;\n",
              "      display: none;\n",
              "      fill: #1967D2;\n",
              "      height: 32px;\n",
              "      padding: 0 0 0 0;\n",
              "      width: 32px;\n",
              "    }\n",
              "\n",
              "    .colab-df-convert:hover {\n",
              "      background-color: #E2EBFA;\n",
              "      box-shadow: 0px 1px 2px rgba(60, 64, 67, 0.3), 0px 1px 3px 1px rgba(60, 64, 67, 0.15);\n",
              "      fill: #174EA6;\n",
              "    }\n",
              "\n",
              "    [theme=dark] .colab-df-convert {\n",
              "      background-color: #3B4455;\n",
              "      fill: #D2E3FC;\n",
              "    }\n",
              "\n",
              "    [theme=dark] .colab-df-convert:hover {\n",
              "      background-color: #434B5C;\n",
              "      box-shadow: 0px 1px 3px 1px rgba(0, 0, 0, 0.15);\n",
              "      filter: drop-shadow(0px 1px 2px rgba(0, 0, 0, 0.3));\n",
              "      fill: #FFFFFF;\n",
              "    }\n",
              "  </style>\n",
              "\n",
              "      <script>\n",
              "        const buttonEl =\n",
              "          document.querySelector('#df-ee670cdc-5773-4270-a705-e603ec984c58 button.colab-df-convert');\n",
              "        buttonEl.style.display =\n",
              "          google.colab.kernel.accessAllowed ? 'block' : 'none';\n",
              "\n",
              "        async function convertToInteractive(key) {\n",
              "          const element = document.querySelector('#df-ee670cdc-5773-4270-a705-e603ec984c58');\n",
              "          const dataTable =\n",
              "            await google.colab.kernel.invokeFunction('convertToInteractive',\n",
              "                                                     [key], {});\n",
              "          if (!dataTable) return;\n",
              "\n",
              "          const docLinkHtml = 'Like what you see? Visit the ' +\n",
              "            '<a target=\"_blank\" href=https://colab.research.google.com/notebooks/data_table.ipynb>data table notebook</a>'\n",
              "            + ' to learn more about interactive tables.';\n",
              "          element.innerHTML = '';\n",
              "          dataTable['output_type'] = 'display_data';\n",
              "          await google.colab.output.renderOutput(dataTable, element);\n",
              "          const docLink = document.createElement('div');\n",
              "          docLink.innerHTML = docLinkHtml;\n",
              "          element.appendChild(docLink);\n",
              "        }\n",
              "      </script>\n",
              "    </div>\n",
              "  </div>\n",
              "  "
            ]
          },
          "metadata": {},
          "execution_count": 212
        }
      ],
      "source": [
        "data"
      ]
    },
    {
      "cell_type": "code",
      "execution_count": null,
      "metadata": {
        "colab": {
          "base_uri": "https://localhost:8080/",
          "height": 424
        },
        "id": "s7EOy2Ajx6Xo",
        "outputId": "0097fe6d-b2f6-4fd1-95ee-05aefc12b3d2"
      },
      "outputs": [
        {
          "output_type": "execute_result",
          "data": {
            "text/plain": [
              "         receipt_to_set_time\n",
              "0                         51\n",
              "1                         37\n",
              "2                          6\n",
              "3                          8\n",
              "4                          8\n",
              "...                      ...\n",
              "1294458                    9\n",
              "1294459                    5\n",
              "1294460                    8\n",
              "1294461                    1\n",
              "1294463                    2\n",
              "\n",
              "[1218860 rows x 1 columns]"
            ],
            "text/html": [
              "\n",
              "  <div id=\"df-eb3c3352-4ec6-46dc-bc95-d8dda162edb5\">\n",
              "    <div class=\"colab-df-container\">\n",
              "      <div>\n",
              "<style scoped>\n",
              "    .dataframe tbody tr th:only-of-type {\n",
              "        vertical-align: middle;\n",
              "    }\n",
              "\n",
              "    .dataframe tbody tr th {\n",
              "        vertical-align: top;\n",
              "    }\n",
              "\n",
              "    .dataframe thead th {\n",
              "        text-align: right;\n",
              "    }\n",
              "</style>\n",
              "<table border=\"1\" class=\"dataframe\">\n",
              "  <thead>\n",
              "    <tr style=\"text-align: right;\">\n",
              "      <th></th>\n",
              "      <th>receipt_to_set_time</th>\n",
              "    </tr>\n",
              "  </thead>\n",
              "  <tbody>\n",
              "    <tr>\n",
              "      <th>0</th>\n",
              "      <td>51</td>\n",
              "    </tr>\n",
              "    <tr>\n",
              "      <th>1</th>\n",
              "      <td>37</td>\n",
              "    </tr>\n",
              "    <tr>\n",
              "      <th>2</th>\n",
              "      <td>6</td>\n",
              "    </tr>\n",
              "    <tr>\n",
              "      <th>3</th>\n",
              "      <td>8</td>\n",
              "    </tr>\n",
              "    <tr>\n",
              "      <th>4</th>\n",
              "      <td>8</td>\n",
              "    </tr>\n",
              "    <tr>\n",
              "      <th>...</th>\n",
              "      <td>...</td>\n",
              "    </tr>\n",
              "    <tr>\n",
              "      <th>1294458</th>\n",
              "      <td>9</td>\n",
              "    </tr>\n",
              "    <tr>\n",
              "      <th>1294459</th>\n",
              "      <td>5</td>\n",
              "    </tr>\n",
              "    <tr>\n",
              "      <th>1294460</th>\n",
              "      <td>8</td>\n",
              "    </tr>\n",
              "    <tr>\n",
              "      <th>1294461</th>\n",
              "      <td>1</td>\n",
              "    </tr>\n",
              "    <tr>\n",
              "      <th>1294463</th>\n",
              "      <td>2</td>\n",
              "    </tr>\n",
              "  </tbody>\n",
              "</table>\n",
              "<p>1218860 rows × 1 columns</p>\n",
              "</div>\n",
              "      <button class=\"colab-df-convert\" onclick=\"convertToInteractive('df-eb3c3352-4ec6-46dc-bc95-d8dda162edb5')\"\n",
              "              title=\"Convert this dataframe to an interactive table.\"\n",
              "              style=\"display:none;\">\n",
              "        \n",
              "  <svg xmlns=\"http://www.w3.org/2000/svg\" height=\"24px\"viewBox=\"0 0 24 24\"\n",
              "       width=\"24px\">\n",
              "    <path d=\"M0 0h24v24H0V0z\" fill=\"none\"/>\n",
              "    <path d=\"M18.56 5.44l.94 2.06.94-2.06 2.06-.94-2.06-.94-.94-2.06-.94 2.06-2.06.94zm-11 1L8.5 8.5l.94-2.06 2.06-.94-2.06-.94L8.5 2.5l-.94 2.06-2.06.94zm10 10l.94 2.06.94-2.06 2.06-.94-2.06-.94-.94-2.06-.94 2.06-2.06.94z\"/><path d=\"M17.41 7.96l-1.37-1.37c-.4-.4-.92-.59-1.43-.59-.52 0-1.04.2-1.43.59L10.3 9.45l-7.72 7.72c-.78.78-.78 2.05 0 2.83L4 21.41c.39.39.9.59 1.41.59.51 0 1.02-.2 1.41-.59l7.78-7.78 2.81-2.81c.8-.78.8-2.07 0-2.86zM5.41 20L4 18.59l7.72-7.72 1.47 1.35L5.41 20z\"/>\n",
              "  </svg>\n",
              "      </button>\n",
              "      \n",
              "  <style>\n",
              "    .colab-df-container {\n",
              "      display:flex;\n",
              "      flex-wrap:wrap;\n",
              "      gap: 12px;\n",
              "    }\n",
              "\n",
              "    .colab-df-convert {\n",
              "      background-color: #E8F0FE;\n",
              "      border: none;\n",
              "      border-radius: 50%;\n",
              "      cursor: pointer;\n",
              "      display: none;\n",
              "      fill: #1967D2;\n",
              "      height: 32px;\n",
              "      padding: 0 0 0 0;\n",
              "      width: 32px;\n",
              "    }\n",
              "\n",
              "    .colab-df-convert:hover {\n",
              "      background-color: #E2EBFA;\n",
              "      box-shadow: 0px 1px 2px rgba(60, 64, 67, 0.3), 0px 1px 3px 1px rgba(60, 64, 67, 0.15);\n",
              "      fill: #174EA6;\n",
              "    }\n",
              "\n",
              "    [theme=dark] .colab-df-convert {\n",
              "      background-color: #3B4455;\n",
              "      fill: #D2E3FC;\n",
              "    }\n",
              "\n",
              "    [theme=dark] .colab-df-convert:hover {\n",
              "      background-color: #434B5C;\n",
              "      box-shadow: 0px 1px 3px 1px rgba(0, 0, 0, 0.15);\n",
              "      filter: drop-shadow(0px 1px 2px rgba(0, 0, 0, 0.3));\n",
              "      fill: #FFFFFF;\n",
              "    }\n",
              "  </style>\n",
              "\n",
              "      <script>\n",
              "        const buttonEl =\n",
              "          document.querySelector('#df-eb3c3352-4ec6-46dc-bc95-d8dda162edb5 button.colab-df-convert');\n",
              "        buttonEl.style.display =\n",
              "          google.colab.kernel.accessAllowed ? 'block' : 'none';\n",
              "\n",
              "        async function convertToInteractive(key) {\n",
              "          const element = document.querySelector('#df-eb3c3352-4ec6-46dc-bc95-d8dda162edb5');\n",
              "          const dataTable =\n",
              "            await google.colab.kernel.invokeFunction('convertToInteractive',\n",
              "                                                     [key], {});\n",
              "          if (!dataTable) return;\n",
              "\n",
              "          const docLinkHtml = 'Like what you see? Visit the ' +\n",
              "            '<a target=\"_blank\" href=https://colab.research.google.com/notebooks/data_table.ipynb>data table notebook</a>'\n",
              "            + ' to learn more about interactive tables.';\n",
              "          element.innerHTML = '';\n",
              "          dataTable['output_type'] = 'display_data';\n",
              "          await google.colab.output.renderOutput(dataTable, element);\n",
              "          const docLink = document.createElement('div');\n",
              "          docLink.innerHTML = docLinkHtml;\n",
              "          element.appendChild(docLink);\n",
              "        }\n",
              "      </script>\n",
              "    </div>\n",
              "  </div>\n",
              "  "
            ]
          },
          "metadata": {},
          "execution_count": 213
        }
      ],
      "source": [
        "target"
      ]
    },
    {
      "cell_type": "code",
      "execution_count": null,
      "metadata": {
        "id": "xErLisqUyDJW"
      },
      "outputs": [],
      "source": [
        "input_data = data.to_numpy()\n",
        "output_data = target.to_numpy()"
      ]
    },
    {
      "cell_type": "code",
      "execution_count": null,
      "metadata": {
        "colab": {
          "base_uri": "https://localhost:8080/"
        },
        "id": "8kJjthVtcavx",
        "outputId": "d257ec89-8494-4478-e00f-6f1aceb8d8d7"
      },
      "outputs": [
        {
          "output_type": "execute_result",
          "data": {
            "text/plain": [
              "((1218860, 4), (1218860, 1))"
            ]
          },
          "metadata": {},
          "execution_count": 215
        }
      ],
      "source": [
        "input_data.shape, output_data.shape"
      ]
    },
    {
      "cell_type": "markdown",
      "metadata": {
        "id": "qzw9hW8z1e48"
      },
      "source": [
        "\n",
        "\n",
        "# 전처리 / 시각화\n"
      ]
    },
    {
      "cell_type": "code",
      "execution_count": null,
      "metadata": {
        "colab": {
          "base_uri": "https://localhost:8080/",
          "height": 300
        },
        "id": "LL4M5wIu4BFN",
        "outputId": "6c792f6f-d8a0-4a02-cd7d-4119f07bdc5e"
      },
      "outputs": [
        {
          "data": {
            "text/html": [
              "\n",
              "  <div id=\"df-7b044543-22b4-4680-abcf-fd1461d8e0a1\">\n",
              "    <div class=\"colab-df-container\">\n",
              "      <div>\n",
              "<style scoped>\n",
              "    .dataframe tbody tr th:only-of-type {\n",
              "        vertical-align: middle;\n",
              "    }\n",
              "\n",
              "    .dataframe tbody tr th {\n",
              "        vertical-align: top;\n",
              "    }\n",
              "\n",
              "    .dataframe thead th {\n",
              "        text-align: right;\n",
              "    }\n",
              "</style>\n",
              "<table border=\"1\" class=\"dataframe\">\n",
              "  <thead>\n",
              "    <tr style=\"text-align: right;\">\n",
              "      <th></th>\n",
              "      <th>receipt_to_set_time</th>\n",
              "    </tr>\n",
              "  </thead>\n",
              "  <tbody>\n",
              "    <tr>\n",
              "      <th>count</th>\n",
              "      <td>1.218860e+06</td>\n",
              "    </tr>\n",
              "    <tr>\n",
              "      <th>mean</th>\n",
              "      <td>7.962801e-01</td>\n",
              "    </tr>\n",
              "    <tr>\n",
              "      <th>std</th>\n",
              "      <td>2.239871e+00</td>\n",
              "    </tr>\n",
              "    <tr>\n",
              "      <th>min</th>\n",
              "      <td>1.666667e-02</td>\n",
              "    </tr>\n",
              "    <tr>\n",
              "      <th>25%</th>\n",
              "      <td>1.000000e-01</td>\n",
              "    </tr>\n",
              "    <tr>\n",
              "      <th>50%</th>\n",
              "      <td>2.166667e-01</td>\n",
              "    </tr>\n",
              "    <tr>\n",
              "      <th>75%</th>\n",
              "      <td>6.000000e-01</td>\n",
              "    </tr>\n",
              "    <tr>\n",
              "      <th>max</th>\n",
              "      <td>2.365000e+01</td>\n",
              "    </tr>\n",
              "  </tbody>\n",
              "</table>\n",
              "</div>\n",
              "      <button class=\"colab-df-convert\" onclick=\"convertToInteractive('df-7b044543-22b4-4680-abcf-fd1461d8e0a1')\"\n",
              "              title=\"Convert this dataframe to an interactive table.\"\n",
              "              style=\"display:none;\">\n",
              "        \n",
              "  <svg xmlns=\"http://www.w3.org/2000/svg\" height=\"24px\"viewBox=\"0 0 24 24\"\n",
              "       width=\"24px\">\n",
              "    <path d=\"M0 0h24v24H0V0z\" fill=\"none\"/>\n",
              "    <path d=\"M18.56 5.44l.94 2.06.94-2.06 2.06-.94-2.06-.94-.94-2.06-.94 2.06-2.06.94zm-11 1L8.5 8.5l.94-2.06 2.06-.94-2.06-.94L8.5 2.5l-.94 2.06-2.06.94zm10 10l.94 2.06.94-2.06 2.06-.94-2.06-.94-.94-2.06-.94 2.06-2.06.94z\"/><path d=\"M17.41 7.96l-1.37-1.37c-.4-.4-.92-.59-1.43-.59-.52 0-1.04.2-1.43.59L10.3 9.45l-7.72 7.72c-.78.78-.78 2.05 0 2.83L4 21.41c.39.39.9.59 1.41.59.51 0 1.02-.2 1.41-.59l7.78-7.78 2.81-2.81c.8-.78.8-2.07 0-2.86zM5.41 20L4 18.59l7.72-7.72 1.47 1.35L5.41 20z\"/>\n",
              "  </svg>\n",
              "      </button>\n",
              "      \n",
              "  <style>\n",
              "    .colab-df-container {\n",
              "      display:flex;\n",
              "      flex-wrap:wrap;\n",
              "      gap: 12px;\n",
              "    }\n",
              "\n",
              "    .colab-df-convert {\n",
              "      background-color: #E8F0FE;\n",
              "      border: none;\n",
              "      border-radius: 50%;\n",
              "      cursor: pointer;\n",
              "      display: none;\n",
              "      fill: #1967D2;\n",
              "      height: 32px;\n",
              "      padding: 0 0 0 0;\n",
              "      width: 32px;\n",
              "    }\n",
              "\n",
              "    .colab-df-convert:hover {\n",
              "      background-color: #E2EBFA;\n",
              "      box-shadow: 0px 1px 2px rgba(60, 64, 67, 0.3), 0px 1px 3px 1px rgba(60, 64, 67, 0.15);\n",
              "      fill: #174EA6;\n",
              "    }\n",
              "\n",
              "    [theme=dark] .colab-df-convert {\n",
              "      background-color: #3B4455;\n",
              "      fill: #D2E3FC;\n",
              "    }\n",
              "\n",
              "    [theme=dark] .colab-df-convert:hover {\n",
              "      background-color: #434B5C;\n",
              "      box-shadow: 0px 1px 3px 1px rgba(0, 0, 0, 0.15);\n",
              "      filter: drop-shadow(0px 1px 2px rgba(0, 0, 0, 0.3));\n",
              "      fill: #FFFFFF;\n",
              "    }\n",
              "  </style>\n",
              "\n",
              "      <script>\n",
              "        const buttonEl =\n",
              "          document.querySelector('#df-7b044543-22b4-4680-abcf-fd1461d8e0a1 button.colab-df-convert');\n",
              "        buttonEl.style.display =\n",
              "          google.colab.kernel.accessAllowed ? 'block' : 'none';\n",
              "\n",
              "        async function convertToInteractive(key) {\n",
              "          const element = document.querySelector('#df-7b044543-22b4-4680-abcf-fd1461d8e0a1');\n",
              "          const dataTable =\n",
              "            await google.colab.kernel.invokeFunction('convertToInteractive',\n",
              "                                                     [key], {});\n",
              "          if (!dataTable) return;\n",
              "\n",
              "          const docLinkHtml = 'Like what you see? Visit the ' +\n",
              "            '<a target=\"_blank\" href=https://colab.research.google.com/notebooks/data_table.ipynb>data table notebook</a>'\n",
              "            + ' to learn more about interactive tables.';\n",
              "          element.innerHTML = '';\n",
              "          dataTable['output_type'] = 'display_data';\n",
              "          await google.colab.output.renderOutput(dataTable, element);\n",
              "          const docLink = document.createElement('div');\n",
              "          docLink.innerHTML = docLinkHtml;\n",
              "          element.appendChild(docLink);\n",
              "        }\n",
              "      </script>\n",
              "    </div>\n",
              "  </div>\n",
              "  "
            ],
            "text/plain": [
              "       receipt_to_set_time\n",
              "count         1.218860e+06\n",
              "mean          7.962801e-01\n",
              "std           2.239871e+00\n",
              "min           1.666667e-02\n",
              "25%           1.000000e-01\n",
              "50%           2.166667e-01\n",
              "75%           6.000000e-01\n",
              "max           2.365000e+01"
            ]
          },
          "execution_count": 25,
          "metadata": {},
          "output_type": "execute_result"
        }
      ],
      "source": [
        "target.describe()"
      ]
    },
    {
      "cell_type": "code",
      "execution_count": null,
      "metadata": {
        "colab": {
          "base_uri": "https://localhost:8080/"
        },
        "id": "lfA59n2E9Qqf",
        "outputId": "7d5656b3-0255-483b-b5a3-fb1c208e3192"
      },
      "outputs": [
        {
          "data": {
            "text/plain": [
              "receipt_to_set_time    23.65\n",
              "dtype: float64"
            ]
          },
          "execution_count": 26,
          "metadata": {},
          "output_type": "execute_result"
        }
      ],
      "source": [
        "target.max()"
      ]
    },
    {
      "cell_type": "markdown",
      "metadata": {
        "id": "Bb1VBgkD_DKc"
      },
      "source": [
        "https://ordo.tistory.com/69"
      ]
    },
    {
      "cell_type": "code",
      "execution_count": null,
      "metadata": {
        "id": "W7nzLlO09ola"
      },
      "outputs": [],
      "source": [
        "import matplotlib.pyplot as plt\n",
        "plt.hist(target, histtype = 'bar', rwidth = 0.5, bins = 50)\n",
        "plt.show"
      ]
    },
    {
      "cell_type": "code",
      "execution_count": null,
      "metadata": {
        "id": "nTTktSkL4d_0"
      },
      "outputs": [],
      "source": [
        "target.loc[target['receipt_to_set_time'] > 5].shape[0]"
      ]
    },
    {
      "cell_type": "code",
      "execution_count": null,
      "metadata": {
        "id": "CQzqD8RH4d_1"
      },
      "outputs": [],
      "source": [
        "target.loc[target['receipt_to_set_time'] > 3].shape[0]"
      ]
    },
    {
      "cell_type": "code",
      "execution_count": null,
      "metadata": {
        "id": "unZqiVME4d_1"
      },
      "outputs": [],
      "source": [
        "target.loc[target['receipt_to_set_time'] > 2].shape[0]"
      ]
    },
    {
      "cell_type": "code",
      "execution_count": null,
      "metadata": {
        "id": "PCJ3Lq6b85nS"
      },
      "outputs": [],
      "source": [
        "# 시각화\n",
        "from mpl_toolkits.mplot3d import Axes3D\n",
        "import numpy as np\n",
        "\n",
        "xs = data['start_latitude']\n",
        "ys = data['start_longitude']\n",
        "zs = data['receipt_time']\n",
        "\n",
        "fig = plt.figure(figsize=(10, 10))\n",
        "ax = fig.add_subplot(111, projection='3d')\n",
        "ax.scatter(xs, ys, zs, marker='o', s=1, cmap='Greens')\n",
        "\n",
        "plt.show()"
      ]
    },
    {
      "cell_type": "code",
      "source": [
        "#요일 시각화\n",
        "import numpy as np \n",
        "import pandas as pd \n",
        "import matplotlib.pyplot as plt\n",
        "\n",
        "df.boxplot(by ='day', column =['receipt_to_set_time'], grid = False)\n",
        "plt.ylim(0,100)\n",
        "plt.show()"
      ],
      "metadata": {
        "colab": {
          "base_uri": "https://localhost:8080/",
          "height": 357
        },
        "id": "d28SGPDL8Jct",
        "outputId": "4f949ce6-2a74-44b3-c20f-cf8800a71c04"
      },
      "execution_count": null,
      "outputs": [
        {
          "output_type": "stream",
          "name": "stderr",
          "text": [
            "/usr/local/lib/python3.8/dist-packages/matplotlib/cbook/__init__.py:1376: VisibleDeprecationWarning: Creating an ndarray from ragged nested sequences (which is a list-or-tuple of lists-or-tuples-or ndarrays with different lengths or shapes) is deprecated. If you meant to do this, you must specify 'dtype=object' when creating the ndarray.\n",
            "  X = np.atleast_1d(X.T if isinstance(X, np.ndarray) else np.asarray(X))\n"
          ]
        },
        {
          "output_type": "display_data",
          "data": {
            "text/plain": [
              "<Figure size 432x288 with 1 Axes>"
            ],
            "image/png": "[encoded data removed]"
          },
          "metadata": {
            "needs_background": "light"
          }
        }
      ]
    },
    {
      "cell_type": "code",
      "source": [
        "import seaborn as sns\n",
        "import matplotlib.pyplot as plt\n",
        "\n",
        "plt.figure(figsize=(10,8))\n",
        "sns.scatterplot(data = df, x=\"start_longitude\", y=\"start_latitude\", hue=\"receipt_to_set_time\")"
      ],
      "metadata": {
        "colab": {
          "base_uri": "https://localhost:8080/",
          "height": 516
        },
        "id": "GfdqVBSdPvFb",
        "outputId": "f0b082a0-cf46-4f06-e093-aa43f1c29704"
      },
      "execution_count": null,
      "outputs": [
        {
          "output_type": "execute_result",
          "data": {
            "text/plain": [
              "<matplotlib.axes._subplots.AxesSubplot at 0x7f7eb4e13c70>"
            ]
          },
          "metadata": {},
          "execution_count": 181
        },
        {
          "output_type": "display_data",
          "data": {
            "text/plain": [
              "<Figure size 720x576 with 1 Axes>"
            ],
            "image/png": "[encoded data removed]"
          },
          "metadata": {
            "needs_background": "light"
          }
        }
      ]
    },
    {
      "cell_type": "code",
      "source": [
        "import seaborn as sns\n",
        "import matplotlib.pyplot as plt\n",
        "\n",
        "plt.figure(figsize=(10,8))\n",
        "sns.scatterplot(data = df, x=\"start_longitude\", y=\"start_latitude\", hue=\"receipt_to_set_time\")"
      ],
      "metadata": {
        "colab": {
          "base_uri": "https://localhost:8080/",
          "height": 516
        },
        "id": "xkIYyjJNRhRH",
        "outputId": "c00ec567-e8a9-4b3f-b06d-afa59afaac58"
      },
      "execution_count": null,
      "outputs": [
        {
          "output_type": "execute_result",
          "data": {
            "text/plain": [
              "<matplotlib.axes._subplots.AxesSubplot at 0x7f7eaf886730>"
            ]
          },
          "metadata": {},
          "execution_count": 193
        },
        {
          "output_type": "display_data",
          "data": {
            "text/plain": [
              "<Figure size 720x576 with 1 Axes>"
            ],
            "image/png": "[encoded data removed]"
          },
          "metadata": {
            "needs_background": "light"
          }
        }
      ]
    },
    {
      "cell_type": "code",
      "source": [
        "#평일, 주말 원핫\n",
        "\n",
        "data['weekday'] = data['day'].apply(lambda x: 1 if x<5 else 0)\n",
        "data['weekend'] = data['day'].apply(lambda x: 1 if x>=5 else 0)\n",
        "data = data.drop(columns=['day'])"
      ],
      "metadata": {
        "colab": {
          "base_uri": "https://localhost:8080/"
        },
        "id": "rQ3d8rpKDlvh",
        "outputId": "3c06ca7e-720a-4176-abee-4fab06871e36"
      },
      "execution_count": null,
      "outputs": [
        {
          "output_type": "stream",
          "name": "stderr",
          "text": [
            "<ipython-input-218-f1592b492d9a>:3: SettingWithCopyWarning: \n",
            "A value is trying to be set on a copy of a slice from a DataFrame.\n",
            "Try using .loc[row_indexer,col_indexer] = value instead\n",
            "\n",
            "See the caveats in the documentation: https://pandas.pydata.org/pandas-docs/stable/user_guide/indexing.html#returning-a-view-versus-a-copy\n",
            "  data['weekday'] = data['day'].apply(lambda x: 1 if x<5 else 0)\n",
            "<ipython-input-218-f1592b492d9a>:4: SettingWithCopyWarning: \n",
            "A value is trying to be set on a copy of a slice from a DataFrame.\n",
            "Try using .loc[row_indexer,col_indexer] = value instead\n",
            "\n",
            "See the caveats in the documentation: https://pandas.pydata.org/pandas-docs/stable/user_guide/indexing.html#returning-a-view-versus-a-copy\n",
            "  data['weekend'] = data['day'].apply(lambda x: 1 if x>=5 else 0)\n"
          ]
        }
      ]
    }
  ],
  "metadata": {
    "accelerator": "GPU",
    "colab": {
      "machine_shape": "hm",
      "provenance": [],
      "collapsed_sections": [
        "HunL3pXV145Z"
      ]
    },
    "gpuClass": "standard",
    "kernelspec": {
      "display_name": "Python 3",
      "language": "python",
      "name": "python3"
    },
    "language_info": {
      "codemirror_mode": {
        "name": "ipython",
        "version": 3
      },
      "file_extension": ".py",
      "mimetype": "text/x-python",
      "name": "python",
      "nbconvert_exporter": "python",
      "pygments_lexer": "ipython3",
      "version": "3.8.1"
    },
    "orig_nbformat": 4,
    "vscode": {
      "interpreter": {
        "hash": "949777d72b0d2535278d3dc13498b2535136f6dfe0678499012e853ee9abcab1"
      }
    }
  },
  "nbformat": 4,
  "nbformat_minor": 0
}